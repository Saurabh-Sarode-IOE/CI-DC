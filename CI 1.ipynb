{
 "cells": [
  {
   "cell_type": "code",
   "execution_count": 1,
   "id": "2163b1cb",
   "metadata": {},
   "outputs": [],
   "source": [
    "import numpy as np\n"
   ]
  },
  {
   "cell_type": "code",
   "execution_count": 2,
   "id": "fa54b848",
   "metadata": {},
   "outputs": [],
   "source": [
    "# Function to perform Union operation on fuzzy sets\n",
    "def fuzzy_union(A, B):\n",
    "    return np.maximum(A, B)"
   ]
  },
  {
   "cell_type": "code",
   "execution_count": 3,
   "id": "4c2def88",
   "metadata": {},
   "outputs": [],
   "source": [
    "# Function to perform Intersection operation on fuzzy sets\n",
    "def fuzzy_intersection(A, B):\n",
    "    return np.minimum(A, B)"
   ]
  },
  {
   "cell_type": "code",
   "execution_count": 4,
   "id": "5fe66eac",
   "metadata": {},
   "outputs": [],
   "source": [
    "# Function to perform Complement operation on a fuzzy set\n",
    "def fuzzy_complement(A):\n",
    "    return 1 - A"
   ]
  },
  {
   "cell_type": "code",
   "execution_count": 5,
   "id": "84be850c",
   "metadata": {},
   "outputs": [],
   "source": [
    "# Function to perform Difference operation on fuzzy sets\n",
    "def fuzzy_difference(A, B):\n",
    "    return np.maximum(A, 1 - B)"
   ]
  },
  {
   "cell_type": "code",
   "execution_count": 6,
   "id": "13378996",
   "metadata": {},
   "outputs": [],
   "source": [
    "# Function to create fuzzy relation by Cartesian product of two fuzzy sets\n",
    "def cartesian_product(A, B):\n",
    "    return np.outer(A, B)"
   ]
  },
  {
   "cell_type": "code",
   "execution_count": 7,
   "id": "7655cb9c",
   "metadata": {},
   "outputs": [],
   "source": [
    "# Function to perform Max-Min composition on two fuzzy relations\n",
    "def max_min_composition(R, S):\n",
    "    return np.max(np.minimum.outer(R, S), axis=1)"
   ]
  },
  {
   "cell_type": "code",
   "execution_count": 8,
   "id": "4a8ca16f",
   "metadata": {},
   "outputs": [],
   "source": [
    "\n",
    "# Example usage\n",
    "A = np.array([0.2, 0.4, 0.6, 0.8])  # Fuzzy set A\n",
    "B = np.array([0.3, 0.5, 0.7, 0.9])  # Fuzzy set B"
   ]
  },
  {
   "cell_type": "code",
   "execution_count": 9,
   "id": "0d4c4edf",
   "metadata": {},
   "outputs": [],
   "source": [
    "\n",
    "# Operations on fuzzy sets\n",
    "union_result = fuzzy_union(A, B)\n",
    "intersection_result = fuzzy_intersection(A, B)\n",
    "complement_A = fuzzy_complement(A)\n",
    "difference_result = fuzzy_difference(A, B)"
   ]
  },
  {
   "cell_type": "code",
   "execution_count": 10,
   "id": "2935fd31",
   "metadata": {},
   "outputs": [
    {
     "name": "stdout",
     "output_type": "stream",
     "text": [
      "Union: [0.3 0.5 0.7 0.9]\n",
      "Intersection: [0.2 0.4 0.6 0.8]\n",
      "Complement of A: [0.8 0.6 0.4 0.2]\n",
      "Difference: [0.7 0.5 0.6 0.8]\n"
     ]
    }
   ],
   "source": [
    "\n",
    "print(\"Union:\", union_result)\n",
    "print(\"Intersection:\", intersection_result)\n",
    "print(\"Complement of A:\", complement_A)\n",
    "print(\"Difference:\", difference_result)"
   ]
  },
  {
   "cell_type": "code",
   "execution_count": 11,
   "id": "e72ea1d8",
   "metadata": {},
   "outputs": [],
   "source": [
    "\n",
    "# Fuzzy relations\n",
    "R = np.array([0.2, 0.5, 0.4])  # Fuzzy relation R\n",
    "S = np.array([0.6, 0.3, 0.7])  # Fuzzy relation S"
   ]
  },
  {
   "cell_type": "code",
   "execution_count": 12,
   "id": "a1603615",
   "metadata": {},
   "outputs": [],
   "source": [
    "\n",
    "# Cartesian product of fuzzy relations\n",
    "cartesian_result = cartesian_product(R, S)"
   ]
  },
  {
   "cell_type": "code",
   "execution_count": 13,
   "id": "929aee37",
   "metadata": {},
   "outputs": [],
   "source": [
    "# Max-Min composition of fuzzy relations\n",
    "composition_result = max_min_composition(R, S)"
   ]
  },
  {
   "cell_type": "code",
   "execution_count": 14,
   "id": "2571a882",
   "metadata": {},
   "outputs": [
    {
     "name": "stdout",
     "output_type": "stream",
     "text": [
      "Cartesian product of R and S:\n",
      "[[0.12 0.06 0.14]\n",
      " [0.3  0.15 0.35]\n",
      " [0.24 0.12 0.28]]\n"
     ]
    }
   ],
   "source": [
    "\n",
    "print(\"Cartesian product of R and S:\")\n",
    "print(cartesian_result)"
   ]
  },
  {
   "cell_type": "code",
   "execution_count": 15,
   "id": "22a5cab8",
   "metadata": {},
   "outputs": [
    {
     "name": "stdout",
     "output_type": "stream",
     "text": [
      "Max-Min composition of R and S:\n",
      "[0.2 0.5 0.4]\n"
     ]
    }
   ],
   "source": [
    "\n",
    "print(\"Max-Min composition of R and S:\")\n",
    "print(composition_result)"
   ]
  }
 ],
 "metadata": {
  "kernelspec": {
   "display_name": "Python 3 (ipykernel)",
   "language": "python",
   "name": "python3"
  },
  "language_info": {
   "codemirror_mode": {
    "name": "ipython",
    "version": 3
   },
   "file_extension": ".py",
   "mimetype": "text/x-python",
   "name": "python",
   "nbconvert_exporter": "python",
   "pygments_lexer": "ipython3",
   "version": "3.11.5"
  }
 },
 "nbformat": 4,
 "nbformat_minor": 5
}
